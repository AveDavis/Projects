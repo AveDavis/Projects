{
  "nbformat": 4,
  "nbformat_minor": 0,
  "metadata": {
    "colab": {
      "provenance": [],
      "collapsed_sections": [
        "3Y7GUgz-zw1X",
        "oGaLO4aZpzdf"
      ],
      "authorship_tag": "ABX9TyP1Dyw2yiuO6uNDUod2/QjQ",
      "include_colab_link": true
    },
    "kernelspec": {
      "name": "python3",
      "display_name": "Python 3"
    },
    "language_info": {
      "name": "python"
    }
  },
  "cells": [
    {
      "cell_type": "markdown",
      "metadata": {
        "id": "view-in-github",
        "colab_type": "text"
      },
      "source": [
        "<a href=\"https://colab.research.google.com/github/AveDavis/Projects/blob/main/FakeNewModel.ipynb\" target=\"_parent\"><img src=\"https://colab.research.google.com/assets/colab-badge.svg\" alt=\"Open In Colab\"/></a>"
      ]
    },
    {
      "cell_type": "markdown",
      "source": [
        "# Fake News Detection\n",
        "\n",
        "-https://www.kaggle.com/datasets/clmentbisaillon/fake-and-real-news-dataset\n",
        "\n",
        "\n"
      ],
      "metadata": {
        "id": "3mpac0jBtlYA"
      }
    },
    {
      "cell_type": "markdown",
      "source": [
        "> **Warning:**  Only Run Prepare Workspace One time!\n"
      ],
      "metadata": {
        "id": "hfyuMdoMSFnf"
      }
    },
    {
      "cell_type": "code",
      "source": [
        "# Mount my google drive so that data can be acessed\n",
        "from google.colab import drive\n",
        "drive.mount('/content/gdrive')"
      ],
      "metadata": {
        "colab": {
          "base_uri": "https://localhost:8080/"
        },
        "id": "CeZup_o00NEJ",
        "outputId": "83693669-5034-4a5d-b8c9-6d3274d9e44d"
      },
      "execution_count": 4,
      "outputs": [
        {
          "output_type": "stream",
          "name": "stdout",
          "text": [
            "Drive already mounted at /content/gdrive; to attempt to forcibly remount, call drive.mount(\"/content/gdrive\", force_remount=True).\n"
          ]
        }
      ]
    },
    {
      "cell_type": "markdown",
      "source": [
        "## Prepare Workspace\n",
        "\n",
        "---\n",
        "\n",
        "2. retrieve data from kaggle API.\n",
        "   \n",
        "   **A.)** Create folder called kaggle to store json key with path \"/content/gdrive/My Drive/Kaggle\".\n",
        "   \n",
        "   **B.)** Retrive key from kaggel and place it in the new folder the file will be named \"kaggle.json\".\n",
        "   \n",
        "   **C.)** Set the Kaggle API key configuration path in Google Colab environment.\n",
        "\n",
        "\n",
        "---\n",
        "\n",
        "   \n"
      ],
      "metadata": {
        "id": "3Y7GUgz-zw1X"
      }
    },
    {
      "cell_type": "code",
      "source": [
        "# where are we?\n",
        "#!pwd"
      ],
      "metadata": {
        "colab": {
          "base_uri": "https://localhost:8080/"
        },
        "id": "_Vl617jSz897",
        "outputId": "3f74a042-2a50-4836-8bdb-9ffaa2a87da0"
      },
      "execution_count": 5,
      "outputs": [
        {
          "output_type": "stream",
          "name": "stdout",
          "text": [
            "/content\n"
          ]
        }
      ]
    },
    {
      "cell_type": "code",
      "source": [
        "# make folder called Kaggel to hold json token\n",
        "#!cd gdrive/MyDrive/\n",
        "#!mkdir Kaggle"
      ],
      "metadata": {
        "id": "sJaVRlSR0HDQ"
      },
      "execution_count": 6,
      "outputs": []
    },
    {
      "cell_type": "code",
      "source": [
        "import os\n",
        "# config path to file kaggel.json\n",
        "os.environ['KAGGLE_CONFIG_DIR'] = \"/content/gdrive/My Drive/Kaggle\""
      ],
      "metadata": {
        "id": "3nDdp8mClu8W"
      },
      "execution_count": 7,
      "outputs": []
    },
    {
      "cell_type": "code",
      "source": [
        "# move to new folder\n",
        "%cd /content/gdrive/My Drive/Kaggle"
      ],
      "metadata": {
        "colab": {
          "base_uri": "https://localhost:8080/"
        },
        "id": "0tikR6qJuRe4",
        "outputId": "1059b1e9-5f40-44dc-cec4-dd6069fc6682"
      },
      "execution_count": 8,
      "outputs": [
        {
          "output_type": "stream",
          "name": "stdout",
          "text": [
            "/content/gdrive/My Drive/Kaggle\n"
          ]
        }
      ]
    },
    {
      "cell_type": "code",
      "source": [
        "# download data sets\n",
        "!kaggle datasets download clmentbisaillon/fake-and-real-news-dataset"
      ],
      "metadata": {
        "colab": {
          "base_uri": "https://localhost:8080/"
        },
        "id": "y3ojJx71nHn1",
        "outputId": "bfe3bf94-5c71-4a40-8a73-f10ee5cad4c0"
      },
      "execution_count": 9,
      "outputs": [
        {
          "output_type": "stream",
          "name": "stdout",
          "text": [
            "fake-and-real-news-dataset.zip: Skipping, found more recently modified local copy (use --force to force download)\n"
          ]
        }
      ]
    },
    {
      "cell_type": "code",
      "source": [
        "# Check contents of file\n",
        "!ls"
      ],
      "metadata": {
        "id": "XxgXUOzDu6Nu",
        "colab": {
          "base_uri": "https://localhost:8080/"
        },
        "outputId": "bf19556e-1e4e-4b5a-8880-a7dba3ae5149"
      },
      "execution_count": 10,
      "outputs": [
        {
          "output_type": "stream",
          "name": "stdout",
          "text": [
            "fake-and-real-news-dataset.zip\tFake.csv  Kaggle  kaggle.json  True.csv\n"
          ]
        }
      ]
    },
    {
      "cell_type": "code",
      "source": [
        "#unzipping the zip files and deleting the zip files\n",
        "!unzip \\*.zip  && rm *.zip"
      ],
      "metadata": {
        "colab": {
          "base_uri": "https://localhost:8080/"
        },
        "id": "vWq3Xz6bnqs5",
        "outputId": "ce8101a8-8ba3-40bd-ad2a-25c59010b2c3"
      },
      "execution_count": 11,
      "outputs": [
        {
          "output_type": "stream",
          "name": "stdout",
          "text": [
            "Archive:  fake-and-real-news-dataset.zip\n",
            "replace Fake.csv? [y]es, [n]o, [A]ll, [N]one, [r]ename: "
          ]
        }
      ]
    },
    {
      "cell_type": "markdown",
      "source": [
        "## Upload data and assign labels\n",
        "---"
      ],
      "metadata": {
        "id": "mhigO9NauYMP"
      }
    },
    {
      "cell_type": "code",
      "source": [
        "#upload the needed libarys\n",
        "import numpy as np\n",
        "import pandas as pd\n",
        "#import kaggle"
      ],
      "metadata": {
        "id": "sV-wT-aCuI09"
      },
      "execution_count": 26,
      "outputs": []
    },
    {
      "cell_type": "code",
      "source": [
        "# Upload True data\n",
        "true = pd.read_csv('True.csv')\n",
        "true"
      ],
      "metadata": {
        "colab": {
          "base_uri": "https://localhost:8080/",
          "height": 424
        },
        "id": "z60zbhZNn2ep",
        "outputId": "e68cd386-ef5d-48fe-c453-b6263c7717b3"
      },
      "execution_count": 27,
      "outputs": [
        {
          "output_type": "execute_result",
          "data": {
            "text/plain": [
              "                                                   title  \\\n",
              "0      As U.S. budget fight looms, Republicans flip t...   \n",
              "1      U.S. military to accept transgender recruits o...   \n",
              "2      Senior U.S. Republican senator: 'Let Mr. Muell...   \n",
              "3      FBI Russia probe helped by Australian diplomat...   \n",
              "4      Trump wants Postal Service to charge 'much mor...   \n",
              "...                                                  ...   \n",
              "21412  'Fully committed' NATO backs new U.S. approach...   \n",
              "21413  LexisNexis withdrew two products from Chinese ...   \n",
              "21414  Minsk cultural hub becomes haven from authorities   \n",
              "21415  Vatican upbeat on possibility of Pope Francis ...   \n",
              "21416  Indonesia to buy $1.14 billion worth of Russia...   \n",
              "\n",
              "                                                    text       subject  \\\n",
              "0      WASHINGTON (Reuters) - The head of a conservat...  politicsNews   \n",
              "1      WASHINGTON (Reuters) - Transgender people will...  politicsNews   \n",
              "2      WASHINGTON (Reuters) - The special counsel inv...  politicsNews   \n",
              "3      WASHINGTON (Reuters) - Trump campaign adviser ...  politicsNews   \n",
              "4      SEATTLE/WASHINGTON (Reuters) - President Donal...  politicsNews   \n",
              "...                                                  ...           ...   \n",
              "21412  BRUSSELS (Reuters) - NATO allies on Tuesday we...     worldnews   \n",
              "21413  LONDON (Reuters) - LexisNexis, a provider of l...     worldnews   \n",
              "21414  MINSK (Reuters) - In the shadow of disused Sov...     worldnews   \n",
              "21415  MOSCOW (Reuters) - Vatican Secretary of State ...     worldnews   \n",
              "21416  JAKARTA (Reuters) - Indonesia will buy 11 Sukh...     worldnews   \n",
              "\n",
              "                     date  \n",
              "0      December 31, 2017   \n",
              "1      December 29, 2017   \n",
              "2      December 31, 2017   \n",
              "3      December 30, 2017   \n",
              "4      December 29, 2017   \n",
              "...                   ...  \n",
              "21412    August 22, 2017   \n",
              "21413    August 22, 2017   \n",
              "21414    August 22, 2017   \n",
              "21415    August 22, 2017   \n",
              "21416    August 22, 2017   \n",
              "\n",
              "[21417 rows x 4 columns]"
            ],
            "text/html": [
              "\n",
              "  <div id=\"df-5b015b8d-ee55-44bd-95c6-9f64990bfcc7\" class=\"colab-df-container\">\n",
              "    <div>\n",
              "<style scoped>\n",
              "    .dataframe tbody tr th:only-of-type {\n",
              "        vertical-align: middle;\n",
              "    }\n",
              "\n",
              "    .dataframe tbody tr th {\n",
              "        vertical-align: top;\n",
              "    }\n",
              "\n",
              "    .dataframe thead th {\n",
              "        text-align: right;\n",
              "    }\n",
              "</style>\n",
              "<table border=\"1\" class=\"dataframe\">\n",
              "  <thead>\n",
              "    <tr style=\"text-align: right;\">\n",
              "      <th></th>\n",
              "      <th>title</th>\n",
              "      <th>text</th>\n",
              "      <th>subject</th>\n",
              "      <th>date</th>\n",
              "    </tr>\n",
              "  </thead>\n",
              "  <tbody>\n",
              "    <tr>\n",
              "      <th>0</th>\n",
              "      <td>As U.S. budget fight looms, Republicans flip t...</td>\n",
              "      <td>WASHINGTON (Reuters) - The head of a conservat...</td>\n",
              "      <td>politicsNews</td>\n",
              "      <td>December 31, 2017</td>\n",
              "    </tr>\n",
              "    <tr>\n",
              "      <th>1</th>\n",
              "      <td>U.S. military to accept transgender recruits o...</td>\n",
              "      <td>WASHINGTON (Reuters) - Transgender people will...</td>\n",
              "      <td>politicsNews</td>\n",
              "      <td>December 29, 2017</td>\n",
              "    </tr>\n",
              "    <tr>\n",
              "      <th>2</th>\n",
              "      <td>Senior U.S. Republican senator: 'Let Mr. Muell...</td>\n",
              "      <td>WASHINGTON (Reuters) - The special counsel inv...</td>\n",
              "      <td>politicsNews</td>\n",
              "      <td>December 31, 2017</td>\n",
              "    </tr>\n",
              "    <tr>\n",
              "      <th>3</th>\n",
              "      <td>FBI Russia probe helped by Australian diplomat...</td>\n",
              "      <td>WASHINGTON (Reuters) - Trump campaign adviser ...</td>\n",
              "      <td>politicsNews</td>\n",
              "      <td>December 30, 2017</td>\n",
              "    </tr>\n",
              "    <tr>\n",
              "      <th>4</th>\n",
              "      <td>Trump wants Postal Service to charge 'much mor...</td>\n",
              "      <td>SEATTLE/WASHINGTON (Reuters) - President Donal...</td>\n",
              "      <td>politicsNews</td>\n",
              "      <td>December 29, 2017</td>\n",
              "    </tr>\n",
              "    <tr>\n",
              "      <th>...</th>\n",
              "      <td>...</td>\n",
              "      <td>...</td>\n",
              "      <td>...</td>\n",
              "      <td>...</td>\n",
              "    </tr>\n",
              "    <tr>\n",
              "      <th>21412</th>\n",
              "      <td>'Fully committed' NATO backs new U.S. approach...</td>\n",
              "      <td>BRUSSELS (Reuters) - NATO allies on Tuesday we...</td>\n",
              "      <td>worldnews</td>\n",
              "      <td>August 22, 2017</td>\n",
              "    </tr>\n",
              "    <tr>\n",
              "      <th>21413</th>\n",
              "      <td>LexisNexis withdrew two products from Chinese ...</td>\n",
              "      <td>LONDON (Reuters) - LexisNexis, a provider of l...</td>\n",
              "      <td>worldnews</td>\n",
              "      <td>August 22, 2017</td>\n",
              "    </tr>\n",
              "    <tr>\n",
              "      <th>21414</th>\n",
              "      <td>Minsk cultural hub becomes haven from authorities</td>\n",
              "      <td>MINSK (Reuters) - In the shadow of disused Sov...</td>\n",
              "      <td>worldnews</td>\n",
              "      <td>August 22, 2017</td>\n",
              "    </tr>\n",
              "    <tr>\n",
              "      <th>21415</th>\n",
              "      <td>Vatican upbeat on possibility of Pope Francis ...</td>\n",
              "      <td>MOSCOW (Reuters) - Vatican Secretary of State ...</td>\n",
              "      <td>worldnews</td>\n",
              "      <td>August 22, 2017</td>\n",
              "    </tr>\n",
              "    <tr>\n",
              "      <th>21416</th>\n",
              "      <td>Indonesia to buy $1.14 billion worth of Russia...</td>\n",
              "      <td>JAKARTA (Reuters) - Indonesia will buy 11 Sukh...</td>\n",
              "      <td>worldnews</td>\n",
              "      <td>August 22, 2017</td>\n",
              "    </tr>\n",
              "  </tbody>\n",
              "</table>\n",
              "<p>21417 rows × 4 columns</p>\n",
              "</div>\n",
              "    <div class=\"colab-df-buttons\">\n",
              "\n",
              "  <div class=\"colab-df-container\">\n",
              "    <button class=\"colab-df-convert\" onclick=\"convertToInteractive('df-5b015b8d-ee55-44bd-95c6-9f64990bfcc7')\"\n",
              "            title=\"Convert this dataframe to an interactive table.\"\n",
              "            style=\"display:none;\">\n",
              "\n",
              "  <svg xmlns=\"http://www.w3.org/2000/svg\" height=\"24px\" viewBox=\"0 -960 960 960\">\n",
              "    <path d=\"M120-120v-720h720v720H120Zm60-500h600v-160H180v160Zm220 220h160v-160H400v160Zm0 220h160v-160H400v160ZM180-400h160v-160H180v160Zm440 0h160v-160H620v160ZM180-180h160v-160H180v160Zm440 0h160v-160H620v160Z\"/>\n",
              "  </svg>\n",
              "    </button>\n",
              "\n",
              "  <style>\n",
              "    .colab-df-container {\n",
              "      display:flex;\n",
              "      gap: 12px;\n",
              "    }\n",
              "\n",
              "    .colab-df-convert {\n",
              "      background-color: #E8F0FE;\n",
              "      border: none;\n",
              "      border-radius: 50%;\n",
              "      cursor: pointer;\n",
              "      display: none;\n",
              "      fill: #1967D2;\n",
              "      height: 32px;\n",
              "      padding: 0 0 0 0;\n",
              "      width: 32px;\n",
              "    }\n",
              "\n",
              "    .colab-df-convert:hover {\n",
              "      background-color: #E2EBFA;\n",
              "      box-shadow: 0px 1px 2px rgba(60, 64, 67, 0.3), 0px 1px 3px 1px rgba(60, 64, 67, 0.15);\n",
              "      fill: #174EA6;\n",
              "    }\n",
              "\n",
              "    .colab-df-buttons div {\n",
              "      margin-bottom: 4px;\n",
              "    }\n",
              "\n",
              "    [theme=dark] .colab-df-convert {\n",
              "      background-color: #3B4455;\n",
              "      fill: #D2E3FC;\n",
              "    }\n",
              "\n",
              "    [theme=dark] .colab-df-convert:hover {\n",
              "      background-color: #434B5C;\n",
              "      box-shadow: 0px 1px 3px 1px rgba(0, 0, 0, 0.15);\n",
              "      filter: drop-shadow(0px 1px 2px rgba(0, 0, 0, 0.3));\n",
              "      fill: #FFFFFF;\n",
              "    }\n",
              "  </style>\n",
              "\n",
              "    <script>\n",
              "      const buttonEl =\n",
              "        document.querySelector('#df-5b015b8d-ee55-44bd-95c6-9f64990bfcc7 button.colab-df-convert');\n",
              "      buttonEl.style.display =\n",
              "        google.colab.kernel.accessAllowed ? 'block' : 'none';\n",
              "\n",
              "      async function convertToInteractive(key) {\n",
              "        const element = document.querySelector('#df-5b015b8d-ee55-44bd-95c6-9f64990bfcc7');\n",
              "        const dataTable =\n",
              "          await google.colab.kernel.invokeFunction('convertToInteractive',\n",
              "                                                    [key], {});\n",
              "        if (!dataTable) return;\n",
              "\n",
              "        const docLinkHtml = 'Like what you see? Visit the ' +\n",
              "          '<a target=\"_blank\" href=https://colab.research.google.com/notebooks/data_table.ipynb>data table notebook</a>'\n",
              "          + ' to learn more about interactive tables.';\n",
              "        element.innerHTML = '';\n",
              "        dataTable['output_type'] = 'display_data';\n",
              "        await google.colab.output.renderOutput(dataTable, element);\n",
              "        const docLink = document.createElement('div');\n",
              "        docLink.innerHTML = docLinkHtml;\n",
              "        element.appendChild(docLink);\n",
              "      }\n",
              "    </script>\n",
              "  </div>\n",
              "\n",
              "\n",
              "<div id=\"df-bb74107b-0cc2-467b-98e5-8885b692e662\">\n",
              "  <button class=\"colab-df-quickchart\" onclick=\"quickchart('df-bb74107b-0cc2-467b-98e5-8885b692e662')\"\n",
              "            title=\"Suggest charts\"\n",
              "            style=\"display:none;\">\n",
              "\n",
              "<svg xmlns=\"http://www.w3.org/2000/svg\" height=\"24px\"viewBox=\"0 0 24 24\"\n",
              "     width=\"24px\">\n",
              "    <g>\n",
              "        <path d=\"M19 3H5c-1.1 0-2 .9-2 2v14c0 1.1.9 2 2 2h14c1.1 0 2-.9 2-2V5c0-1.1-.9-2-2-2zM9 17H7v-7h2v7zm4 0h-2V7h2v10zm4 0h-2v-4h2v4z\"/>\n",
              "    </g>\n",
              "</svg>\n",
              "  </button>\n",
              "\n",
              "<style>\n",
              "  .colab-df-quickchart {\n",
              "      --bg-color: #E8F0FE;\n",
              "      --fill-color: #1967D2;\n",
              "      --hover-bg-color: #E2EBFA;\n",
              "      --hover-fill-color: #174EA6;\n",
              "      --disabled-fill-color: #AAA;\n",
              "      --disabled-bg-color: #DDD;\n",
              "  }\n",
              "\n",
              "  [theme=dark] .colab-df-quickchart {\n",
              "      --bg-color: #3B4455;\n",
              "      --fill-color: #D2E3FC;\n",
              "      --hover-bg-color: #434B5C;\n",
              "      --hover-fill-color: #FFFFFF;\n",
              "      --disabled-bg-color: #3B4455;\n",
              "      --disabled-fill-color: #666;\n",
              "  }\n",
              "\n",
              "  .colab-df-quickchart {\n",
              "    background-color: var(--bg-color);\n",
              "    border: none;\n",
              "    border-radius: 50%;\n",
              "    cursor: pointer;\n",
              "    display: none;\n",
              "    fill: var(--fill-color);\n",
              "    height: 32px;\n",
              "    padding: 0;\n",
              "    width: 32px;\n",
              "  }\n",
              "\n",
              "  .colab-df-quickchart:hover {\n",
              "    background-color: var(--hover-bg-color);\n",
              "    box-shadow: 0 1px 2px rgba(60, 64, 67, 0.3), 0 1px 3px 1px rgba(60, 64, 67, 0.15);\n",
              "    fill: var(--button-hover-fill-color);\n",
              "  }\n",
              "\n",
              "  .colab-df-quickchart-complete:disabled,\n",
              "  .colab-df-quickchart-complete:disabled:hover {\n",
              "    background-color: var(--disabled-bg-color);\n",
              "    fill: var(--disabled-fill-color);\n",
              "    box-shadow: none;\n",
              "  }\n",
              "\n",
              "  .colab-df-spinner {\n",
              "    border: 2px solid var(--fill-color);\n",
              "    border-color: transparent;\n",
              "    border-bottom-color: var(--fill-color);\n",
              "    animation:\n",
              "      spin 1s steps(1) infinite;\n",
              "  }\n",
              "\n",
              "  @keyframes spin {\n",
              "    0% {\n",
              "      border-color: transparent;\n",
              "      border-bottom-color: var(--fill-color);\n",
              "      border-left-color: var(--fill-color);\n",
              "    }\n",
              "    20% {\n",
              "      border-color: transparent;\n",
              "      border-left-color: var(--fill-color);\n",
              "      border-top-color: var(--fill-color);\n",
              "    }\n",
              "    30% {\n",
              "      border-color: transparent;\n",
              "      border-left-color: var(--fill-color);\n",
              "      border-top-color: var(--fill-color);\n",
              "      border-right-color: var(--fill-color);\n",
              "    }\n",
              "    40% {\n",
              "      border-color: transparent;\n",
              "      border-right-color: var(--fill-color);\n",
              "      border-top-color: var(--fill-color);\n",
              "    }\n",
              "    60% {\n",
              "      border-color: transparent;\n",
              "      border-right-color: var(--fill-color);\n",
              "    }\n",
              "    80% {\n",
              "      border-color: transparent;\n",
              "      border-right-color: var(--fill-color);\n",
              "      border-bottom-color: var(--fill-color);\n",
              "    }\n",
              "    90% {\n",
              "      border-color: transparent;\n",
              "      border-bottom-color: var(--fill-color);\n",
              "    }\n",
              "  }\n",
              "</style>\n",
              "\n",
              "  <script>\n",
              "    async function quickchart(key) {\n",
              "      const quickchartButtonEl =\n",
              "        document.querySelector('#' + key + ' button');\n",
              "      quickchartButtonEl.disabled = true;  // To prevent multiple clicks.\n",
              "      quickchartButtonEl.classList.add('colab-df-spinner');\n",
              "      try {\n",
              "        const charts = await google.colab.kernel.invokeFunction(\n",
              "            'suggestCharts', [key], {});\n",
              "      } catch (error) {\n",
              "        console.error('Error during call to suggestCharts:', error);\n",
              "      }\n",
              "      quickchartButtonEl.classList.remove('colab-df-spinner');\n",
              "      quickchartButtonEl.classList.add('colab-df-quickchart-complete');\n",
              "    }\n",
              "    (() => {\n",
              "      let quickchartButtonEl =\n",
              "        document.querySelector('#df-bb74107b-0cc2-467b-98e5-8885b692e662 button');\n",
              "      quickchartButtonEl.style.display =\n",
              "        google.colab.kernel.accessAllowed ? 'block' : 'none';\n",
              "    })();\n",
              "  </script>\n",
              "</div>\n",
              "    </div>\n",
              "  </div>\n"
            ]
          },
          "metadata": {},
          "execution_count": 27
        }
      ]
    },
    {
      "cell_type": "code",
      "source": [
        "# Upload fake data\n",
        "fake = pd.read_csv('Fake.csv')\n",
        "fake"
      ],
      "metadata": {
        "colab": {
          "base_uri": "https://localhost:8080/",
          "height": 424
        },
        "id": "8B0XqQ2_oGzh",
        "outputId": "73005c8d-cc6d-43f1-d3bb-90d060035b10"
      },
      "execution_count": 28,
      "outputs": [
        {
          "output_type": "execute_result",
          "data": {
            "text/plain": [
              "                                                   title  \\\n",
              "0       Donald Trump Sends Out Embarrassing New Year’...   \n",
              "1       Drunk Bragging Trump Staffer Started Russian ...   \n",
              "2       Sheriff David Clarke Becomes An Internet Joke...   \n",
              "3       Trump Is So Obsessed He Even Has Obama’s Name...   \n",
              "4       Pope Francis Just Called Out Donald Trump Dur...   \n",
              "...                                                  ...   \n",
              "23476  McPain: John McCain Furious That Iran Treated ...   \n",
              "23477  JUSTICE? Yahoo Settles E-mail Privacy Class-ac...   \n",
              "23478  Sunnistan: US and Allied ‘Safe Zone’ Plan to T...   \n",
              "23479  How to Blow $700 Million: Al Jazeera America F...   \n",
              "23480  10 U.S. Navy Sailors Held by Iranian Military ...   \n",
              "\n",
              "                                                    text      subject  \\\n",
              "0      Donald Trump just couldn t wish all Americans ...         News   \n",
              "1      House Intelligence Committee Chairman Devin Nu...         News   \n",
              "2      On Friday, it was revealed that former Milwauk...         News   \n",
              "3      On Christmas day, Donald Trump announced that ...         News   \n",
              "4      Pope Francis used his annual Christmas Day mes...         News   \n",
              "...                                                  ...          ...   \n",
              "23476  21st Century Wire says As 21WIRE reported earl...  Middle-east   \n",
              "23477  21st Century Wire says It s a familiar theme. ...  Middle-east   \n",
              "23478  Patrick Henningsen  21st Century WireRemember ...  Middle-east   \n",
              "23479  21st Century Wire says Al Jazeera America will...  Middle-east   \n",
              "23480  21st Century Wire says As 21WIRE predicted in ...  Middle-east   \n",
              "\n",
              "                    date  \n",
              "0      December 31, 2017  \n",
              "1      December 31, 2017  \n",
              "2      December 30, 2017  \n",
              "3      December 29, 2017  \n",
              "4      December 25, 2017  \n",
              "...                  ...  \n",
              "23476   January 16, 2016  \n",
              "23477   January 16, 2016  \n",
              "23478   January 15, 2016  \n",
              "23479   January 14, 2016  \n",
              "23480   January 12, 2016  \n",
              "\n",
              "[23481 rows x 4 columns]"
            ],
            "text/html": [
              "\n",
              "  <div id=\"df-52dec325-c6c0-435c-b2ec-4dd2e5f7ee9a\" class=\"colab-df-container\">\n",
              "    <div>\n",
              "<style scoped>\n",
              "    .dataframe tbody tr th:only-of-type {\n",
              "        vertical-align: middle;\n",
              "    }\n",
              "\n",
              "    .dataframe tbody tr th {\n",
              "        vertical-align: top;\n",
              "    }\n",
              "\n",
              "    .dataframe thead th {\n",
              "        text-align: right;\n",
              "    }\n",
              "</style>\n",
              "<table border=\"1\" class=\"dataframe\">\n",
              "  <thead>\n",
              "    <tr style=\"text-align: right;\">\n",
              "      <th></th>\n",
              "      <th>title</th>\n",
              "      <th>text</th>\n",
              "      <th>subject</th>\n",
              "      <th>date</th>\n",
              "    </tr>\n",
              "  </thead>\n",
              "  <tbody>\n",
              "    <tr>\n",
              "      <th>0</th>\n",
              "      <td>Donald Trump Sends Out Embarrassing New Year’...</td>\n",
              "      <td>Donald Trump just couldn t wish all Americans ...</td>\n",
              "      <td>News</td>\n",
              "      <td>December 31, 2017</td>\n",
              "    </tr>\n",
              "    <tr>\n",
              "      <th>1</th>\n",
              "      <td>Drunk Bragging Trump Staffer Started Russian ...</td>\n",
              "      <td>House Intelligence Committee Chairman Devin Nu...</td>\n",
              "      <td>News</td>\n",
              "      <td>December 31, 2017</td>\n",
              "    </tr>\n",
              "    <tr>\n",
              "      <th>2</th>\n",
              "      <td>Sheriff David Clarke Becomes An Internet Joke...</td>\n",
              "      <td>On Friday, it was revealed that former Milwauk...</td>\n",
              "      <td>News</td>\n",
              "      <td>December 30, 2017</td>\n",
              "    </tr>\n",
              "    <tr>\n",
              "      <th>3</th>\n",
              "      <td>Trump Is So Obsessed He Even Has Obama’s Name...</td>\n",
              "      <td>On Christmas day, Donald Trump announced that ...</td>\n",
              "      <td>News</td>\n",
              "      <td>December 29, 2017</td>\n",
              "    </tr>\n",
              "    <tr>\n",
              "      <th>4</th>\n",
              "      <td>Pope Francis Just Called Out Donald Trump Dur...</td>\n",
              "      <td>Pope Francis used his annual Christmas Day mes...</td>\n",
              "      <td>News</td>\n",
              "      <td>December 25, 2017</td>\n",
              "    </tr>\n",
              "    <tr>\n",
              "      <th>...</th>\n",
              "      <td>...</td>\n",
              "      <td>...</td>\n",
              "      <td>...</td>\n",
              "      <td>...</td>\n",
              "    </tr>\n",
              "    <tr>\n",
              "      <th>23476</th>\n",
              "      <td>McPain: John McCain Furious That Iran Treated ...</td>\n",
              "      <td>21st Century Wire says As 21WIRE reported earl...</td>\n",
              "      <td>Middle-east</td>\n",
              "      <td>January 16, 2016</td>\n",
              "    </tr>\n",
              "    <tr>\n",
              "      <th>23477</th>\n",
              "      <td>JUSTICE? Yahoo Settles E-mail Privacy Class-ac...</td>\n",
              "      <td>21st Century Wire says It s a familiar theme. ...</td>\n",
              "      <td>Middle-east</td>\n",
              "      <td>January 16, 2016</td>\n",
              "    </tr>\n",
              "    <tr>\n",
              "      <th>23478</th>\n",
              "      <td>Sunnistan: US and Allied ‘Safe Zone’ Plan to T...</td>\n",
              "      <td>Patrick Henningsen  21st Century WireRemember ...</td>\n",
              "      <td>Middle-east</td>\n",
              "      <td>January 15, 2016</td>\n",
              "    </tr>\n",
              "    <tr>\n",
              "      <th>23479</th>\n",
              "      <td>How to Blow $700 Million: Al Jazeera America F...</td>\n",
              "      <td>21st Century Wire says Al Jazeera America will...</td>\n",
              "      <td>Middle-east</td>\n",
              "      <td>January 14, 2016</td>\n",
              "    </tr>\n",
              "    <tr>\n",
              "      <th>23480</th>\n",
              "      <td>10 U.S. Navy Sailors Held by Iranian Military ...</td>\n",
              "      <td>21st Century Wire says As 21WIRE predicted in ...</td>\n",
              "      <td>Middle-east</td>\n",
              "      <td>January 12, 2016</td>\n",
              "    </tr>\n",
              "  </tbody>\n",
              "</table>\n",
              "<p>23481 rows × 4 columns</p>\n",
              "</div>\n",
              "    <div class=\"colab-df-buttons\">\n",
              "\n",
              "  <div class=\"colab-df-container\">\n",
              "    <button class=\"colab-df-convert\" onclick=\"convertToInteractive('df-52dec325-c6c0-435c-b2ec-4dd2e5f7ee9a')\"\n",
              "            title=\"Convert this dataframe to an interactive table.\"\n",
              "            style=\"display:none;\">\n",
              "\n",
              "  <svg xmlns=\"http://www.w3.org/2000/svg\" height=\"24px\" viewBox=\"0 -960 960 960\">\n",
              "    <path d=\"M120-120v-720h720v720H120Zm60-500h600v-160H180v160Zm220 220h160v-160H400v160Zm0 220h160v-160H400v160ZM180-400h160v-160H180v160Zm440 0h160v-160H620v160ZM180-180h160v-160H180v160Zm440 0h160v-160H620v160Z\"/>\n",
              "  </svg>\n",
              "    </button>\n",
              "\n",
              "  <style>\n",
              "    .colab-df-container {\n",
              "      display:flex;\n",
              "      gap: 12px;\n",
              "    }\n",
              "\n",
              "    .colab-df-convert {\n",
              "      background-color: #E8F0FE;\n",
              "      border: none;\n",
              "      border-radius: 50%;\n",
              "      cursor: pointer;\n",
              "      display: none;\n",
              "      fill: #1967D2;\n",
              "      height: 32px;\n",
              "      padding: 0 0 0 0;\n",
              "      width: 32px;\n",
              "    }\n",
              "\n",
              "    .colab-df-convert:hover {\n",
              "      background-color: #E2EBFA;\n",
              "      box-shadow: 0px 1px 2px rgba(60, 64, 67, 0.3), 0px 1px 3px 1px rgba(60, 64, 67, 0.15);\n",
              "      fill: #174EA6;\n",
              "    }\n",
              "\n",
              "    .colab-df-buttons div {\n",
              "      margin-bottom: 4px;\n",
              "    }\n",
              "\n",
              "    [theme=dark] .colab-df-convert {\n",
              "      background-color: #3B4455;\n",
              "      fill: #D2E3FC;\n",
              "    }\n",
              "\n",
              "    [theme=dark] .colab-df-convert:hover {\n",
              "      background-color: #434B5C;\n",
              "      box-shadow: 0px 1px 3px 1px rgba(0, 0, 0, 0.15);\n",
              "      filter: drop-shadow(0px 1px 2px rgba(0, 0, 0, 0.3));\n",
              "      fill: #FFFFFF;\n",
              "    }\n",
              "  </style>\n",
              "\n",
              "    <script>\n",
              "      const buttonEl =\n",
              "        document.querySelector('#df-52dec325-c6c0-435c-b2ec-4dd2e5f7ee9a button.colab-df-convert');\n",
              "      buttonEl.style.display =\n",
              "        google.colab.kernel.accessAllowed ? 'block' : 'none';\n",
              "\n",
              "      async function convertToInteractive(key) {\n",
              "        const element = document.querySelector('#df-52dec325-c6c0-435c-b2ec-4dd2e5f7ee9a');\n",
              "        const dataTable =\n",
              "          await google.colab.kernel.invokeFunction('convertToInteractive',\n",
              "                                                    [key], {});\n",
              "        if (!dataTable) return;\n",
              "\n",
              "        const docLinkHtml = 'Like what you see? Visit the ' +\n",
              "          '<a target=\"_blank\" href=https://colab.research.google.com/notebooks/data_table.ipynb>data table notebook</a>'\n",
              "          + ' to learn more about interactive tables.';\n",
              "        element.innerHTML = '';\n",
              "        dataTable['output_type'] = 'display_data';\n",
              "        await google.colab.output.renderOutput(dataTable, element);\n",
              "        const docLink = document.createElement('div');\n",
              "        docLink.innerHTML = docLinkHtml;\n",
              "        element.appendChild(docLink);\n",
              "      }\n",
              "    </script>\n",
              "  </div>\n",
              "\n",
              "\n",
              "<div id=\"df-bb9ec8f6-bb48-4d48-b74d-319274720b28\">\n",
              "  <button class=\"colab-df-quickchart\" onclick=\"quickchart('df-bb9ec8f6-bb48-4d48-b74d-319274720b28')\"\n",
              "            title=\"Suggest charts\"\n",
              "            style=\"display:none;\">\n",
              "\n",
              "<svg xmlns=\"http://www.w3.org/2000/svg\" height=\"24px\"viewBox=\"0 0 24 24\"\n",
              "     width=\"24px\">\n",
              "    <g>\n",
              "        <path d=\"M19 3H5c-1.1 0-2 .9-2 2v14c0 1.1.9 2 2 2h14c1.1 0 2-.9 2-2V5c0-1.1-.9-2-2-2zM9 17H7v-7h2v7zm4 0h-2V7h2v10zm4 0h-2v-4h2v4z\"/>\n",
              "    </g>\n",
              "</svg>\n",
              "  </button>\n",
              "\n",
              "<style>\n",
              "  .colab-df-quickchart {\n",
              "      --bg-color: #E8F0FE;\n",
              "      --fill-color: #1967D2;\n",
              "      --hover-bg-color: #E2EBFA;\n",
              "      --hover-fill-color: #174EA6;\n",
              "      --disabled-fill-color: #AAA;\n",
              "      --disabled-bg-color: #DDD;\n",
              "  }\n",
              "\n",
              "  [theme=dark] .colab-df-quickchart {\n",
              "      --bg-color: #3B4455;\n",
              "      --fill-color: #D2E3FC;\n",
              "      --hover-bg-color: #434B5C;\n",
              "      --hover-fill-color: #FFFFFF;\n",
              "      --disabled-bg-color: #3B4455;\n",
              "      --disabled-fill-color: #666;\n",
              "  }\n",
              "\n",
              "  .colab-df-quickchart {\n",
              "    background-color: var(--bg-color);\n",
              "    border: none;\n",
              "    border-radius: 50%;\n",
              "    cursor: pointer;\n",
              "    display: none;\n",
              "    fill: var(--fill-color);\n",
              "    height: 32px;\n",
              "    padding: 0;\n",
              "    width: 32px;\n",
              "  }\n",
              "\n",
              "  .colab-df-quickchart:hover {\n",
              "    background-color: var(--hover-bg-color);\n",
              "    box-shadow: 0 1px 2px rgba(60, 64, 67, 0.3), 0 1px 3px 1px rgba(60, 64, 67, 0.15);\n",
              "    fill: var(--button-hover-fill-color);\n",
              "  }\n",
              "\n",
              "  .colab-df-quickchart-complete:disabled,\n",
              "  .colab-df-quickchart-complete:disabled:hover {\n",
              "    background-color: var(--disabled-bg-color);\n",
              "    fill: var(--disabled-fill-color);\n",
              "    box-shadow: none;\n",
              "  }\n",
              "\n",
              "  .colab-df-spinner {\n",
              "    border: 2px solid var(--fill-color);\n",
              "    border-color: transparent;\n",
              "    border-bottom-color: var(--fill-color);\n",
              "    animation:\n",
              "      spin 1s steps(1) infinite;\n",
              "  }\n",
              "\n",
              "  @keyframes spin {\n",
              "    0% {\n",
              "      border-color: transparent;\n",
              "      border-bottom-color: var(--fill-color);\n",
              "      border-left-color: var(--fill-color);\n",
              "    }\n",
              "    20% {\n",
              "      border-color: transparent;\n",
              "      border-left-color: var(--fill-color);\n",
              "      border-top-color: var(--fill-color);\n",
              "    }\n",
              "    30% {\n",
              "      border-color: transparent;\n",
              "      border-left-color: var(--fill-color);\n",
              "      border-top-color: var(--fill-color);\n",
              "      border-right-color: var(--fill-color);\n",
              "    }\n",
              "    40% {\n",
              "      border-color: transparent;\n",
              "      border-right-color: var(--fill-color);\n",
              "      border-top-color: var(--fill-color);\n",
              "    }\n",
              "    60% {\n",
              "      border-color: transparent;\n",
              "      border-right-color: var(--fill-color);\n",
              "    }\n",
              "    80% {\n",
              "      border-color: transparent;\n",
              "      border-right-color: var(--fill-color);\n",
              "      border-bottom-color: var(--fill-color);\n",
              "    }\n",
              "    90% {\n",
              "      border-color: transparent;\n",
              "      border-bottom-color: var(--fill-color);\n",
              "    }\n",
              "  }\n",
              "</style>\n",
              "\n",
              "  <script>\n",
              "    async function quickchart(key) {\n",
              "      const quickchartButtonEl =\n",
              "        document.querySelector('#' + key + ' button');\n",
              "      quickchartButtonEl.disabled = true;  // To prevent multiple clicks.\n",
              "      quickchartButtonEl.classList.add('colab-df-spinner');\n",
              "      try {\n",
              "        const charts = await google.colab.kernel.invokeFunction(\n",
              "            'suggestCharts', [key], {});\n",
              "      } catch (error) {\n",
              "        console.error('Error during call to suggestCharts:', error);\n",
              "      }\n",
              "      quickchartButtonEl.classList.remove('colab-df-spinner');\n",
              "      quickchartButtonEl.classList.add('colab-df-quickchart-complete');\n",
              "    }\n",
              "    (() => {\n",
              "      let quickchartButtonEl =\n",
              "        document.querySelector('#df-bb9ec8f6-bb48-4d48-b74d-319274720b28 button');\n",
              "      quickchartButtonEl.style.display =\n",
              "        google.colab.kernel.accessAllowed ? 'block' : 'none';\n",
              "    })();\n",
              "  </script>\n",
              "</div>\n",
              "    </div>\n",
              "  </div>\n"
            ]
          },
          "metadata": {},
          "execution_count": 28
        }
      ]
    },
    {
      "cell_type": "code",
      "source": [
        "# Label and combine data\n",
        "true['label'] = 1\n",
        "fake['label'] = 0\n",
        "\n",
        "# Use the the first 5000 data of true and fake dataset for building the model.\n",
        "frames = [true.loc[:5000][:], fake.loc[:5000][:]]\n",
        "\n",
        "# use all the data\n",
        "#frames = [true, fake]\n",
        "\n",
        "df = pd.concat(frames)\n",
        "df.shape"
      ],
      "metadata": {
        "colab": {
          "base_uri": "https://localhost:8080/"
        },
        "id": "Hui5EPBEofbH",
        "outputId": "77ce9871-26bc-4589-d105-b3f9d9206fe5"
      },
      "execution_count": 29,
      "outputs": [
        {
          "output_type": "execute_result",
          "data": {
            "text/plain": [
              "(10002, 5)"
            ]
          },
          "metadata": {},
          "execution_count": 29
        }
      ]
    },
    {
      "cell_type": "code",
      "source": [
        "# create dependent and independent variables\n",
        "X = df. drop('label', axis=1)\n",
        "y = df['label']"
      ],
      "metadata": {
        "id": "3U9S1uUSsAoe"
      },
      "execution_count": 30,
      "outputs": []
    },
    {
      "cell_type": "code",
      "source": [
        "#drop missing data\n",
        "df = df.dropna()\n",
        "df2 = df.copy()\n",
        "\n",
        "# add index column for building the corpus\n",
        "df2.reset_index(inplace=True)\n",
        "df2['text'] = df2['text'].astype(str)\n",
        "df2.info()"
      ],
      "metadata": {
        "colab": {
          "base_uri": "https://localhost:8080/"
        },
        "id": "LXUL2qGQsQaX",
        "outputId": "8ba1b9b2-e2b5-4d61-d529-47f5d772942a"
      },
      "execution_count": 31,
      "outputs": [
        {
          "output_type": "stream",
          "name": "stdout",
          "text": [
            "<class 'pandas.core.frame.DataFrame'>\n",
            "RangeIndex: 10002 entries, 0 to 10001\n",
            "Data columns (total 6 columns):\n",
            " #   Column   Non-Null Count  Dtype \n",
            "---  ------   --------------  ----- \n",
            " 0   index    10002 non-null  int64 \n",
            " 1   title    10002 non-null  object\n",
            " 2   text     10002 non-null  object\n",
            " 3   subject  10002 non-null  object\n",
            " 4   date     10002 non-null  object\n",
            " 5   label    10002 non-null  int64 \n",
            "dtypes: int64(2), object(4)\n",
            "memory usage: 469.0+ KB\n"
          ]
        }
      ]
    },
    {
      "cell_type": "code",
      "source": [
        "print(df2['text'].isna().sum())"
      ],
      "metadata": {
        "colab": {
          "base_uri": "https://localhost:8080/"
        },
        "id": "f6UmOa3ryn3c",
        "outputId": "42a5d8a2-6c0c-4a40-eea5-abc5ec0481bd"
      },
      "execution_count": 32,
      "outputs": [
        {
          "output_type": "stream",
          "name": "stdout",
          "text": [
            "0\n"
          ]
        }
      ]
    },
    {
      "cell_type": "markdown",
      "source": [
        "## Preprocessing\n",
        "---\n",
        "\n",
        "In this section we create the corpus and then vectorize our data. To begin to create the corpus we must remove all punctuation and stop words. The stop words used in this occasion are from nltk and no more have been added. Then we make all of our strings lowercase for consistency, and lastly we stem our tokens. The stemming is done via the nltk [snowball](https://www.nltk.org/api/nltk.stem.snowball.html?highlight=stemmer#nltk.stem.snowball.EnglishStemmer) algorithm. Snowball is an agressive stemmer but it is the most computaionally efficent and will work for our purposes.\n",
        "\n",
        "Lastly we use[TFID Vecotrizor](https://scikit-learn.org/stable/modules/generated/sklearn.feature_extraction.text.TfidfVectorizer.html) from sklearn. This allows us to use the term frequency inverse document frequency metrics for detecting fake news."
      ],
      "metadata": {
        "id": "oGaLO4aZpzdf"
      }
    },
    {
      "cell_type": "code",
      "source": [
        "import re\n",
        "from nltk.stem import SnowballStemmer\n",
        "from nltk.corpus import stopwords\n",
        "snowball_stemmer = SnowballStemmer(language='english')\n",
        "stopwords_set = set(stopwords.words('english'))\n",
        "\n",
        "corpus = []\n",
        "\n",
        "for i in range(0, len(df2)):\n",
        "    # Using SnowballStemmer\n",
        "    review = re.sub('[^a-zA-Z]', ' ', df2['text'][i])\n",
        "    review = review.lower()\n",
        "    review = review.split()\n",
        "\n",
        "    review = [snowball_stemmer.stem(word) for word in review if word not in stopwords_set]\n",
        "    review = ' '.join(review)\n",
        "    corpus.append(review)"
      ],
      "metadata": {
        "id": "OUaKXpJw_STW"
      },
      "execution_count": 33,
      "outputs": []
    },
    {
      "cell_type": "code",
      "source": [
        "# TFidf Vectorizer\n",
        "from sklearn.feature_extraction.text import TfidfVectorizer\n",
        "tfidf_v = TfidfVectorizer(max_features=5000, ngram_range=(1,3))"
      ],
      "metadata": {
        "id": "n-VThg4nChZa"
      },
      "execution_count": 34,
      "outputs": []
    },
    {
      "cell_type": "markdown",
      "source": [
        "## EDA"
      ],
      "metadata": {
        "id": "UAKRFF6cKsrQ"
      }
    },
    {
      "cell_type": "code",
      "source": [],
      "metadata": {
        "id": "O15fp_7FZ1h_"
      },
      "execution_count": null,
      "outputs": []
    },
    {
      "cell_type": "code",
      "source": [
        "len(set(corpus))"
      ],
      "metadata": {
        "colab": {
          "base_uri": "https://localhost:8080/"
        },
        "id": "ZDqcnje8KuhD",
        "outputId": "fc11ad40-2543-42ca-b2b9-ab51539cd538"
      },
      "execution_count": 125,
      "outputs": [
        {
          "output_type": "execute_result",
          "data": {
            "text/plain": [
              "9963"
            ]
          },
          "metadata": {},
          "execution_count": 125
        }
      ]
    },
    {
      "cell_type": "code",
      "source": [],
      "metadata": {
        "colab": {
          "base_uri": "https://localhost:8080/"
        },
        "id": "fI2K4--BnILW",
        "outputId": "1ad927ca-f0d8-440a-94ca-b71ce8957694"
      },
      "execution_count": 50,
      "outputs": [
        {
          "output_type": "execute_result",
          "data": {
            "text/plain": [
              "[('reuter highlight u presid donald trump administr thursday unit state drop massiv gbu bomb largest non nuclear bomb ever use combat afghanistan seri cave use islam state milit pentagon say trump say pyongyang problem taken care amid specul north korea verg sixth nuclear test militari forc cannot resolv tension north korea china warn influenti chines newspap urg pyongyang halt nuclear program exchang beij protect trump administr focus north korea strategi tougher econom sanction possibl includ intercept cargo ship punish chines bank busi pyongyang u offici say trump say thing work fine unit state russia day declar u russian relat may time low trump signal could move closer mainstream monetari polici say rule reappoint janet yellen feder reserv chair consid choic u central bank nl n hl b trump sign resolut allow u state restrict feder fund contracept reproduct health spent move cheer anti abort campaign democrat senat chris van hollen press deutsch bank releas inform issu includ trump debt bank meet trump administr offici say great concern possibl conflict interest export import bank trump offic say plan reviv hobbl export import bank unit state victori american manufactur boe co general electr co oversea custom use agenc govern back loan purchas product top wall street banker say posit discuss financi regul washington downplay idea u policymak may forc institut split unit state push trade key issu top level econom talk japan sourc say unwelcom develop tokyo seek fend u pressur reduc bilater trade imbal trump administr focus one group illeg immigr other women children accord eight depart homeland secur offici interview reuter agenc plan',\n",
              "  8),\n",
              " ('reuter highlight u presid donald trump administr friday trump promis big announc tax reform next week order administr review obama era tax rule written discourag u compani reloc oversea cut tax bill trump tell treasuri depart examin two power given regul polic larg financi compani follow financi crisi south korea say heighten alert ahead anoth import anniversari north korea larg concentr militari hardwar amass side border amid concern new nuclear test pyongyang trump strive make good top campaign promis push fellow republican control congress pass revamp healthcar legisl intraparti squabbl torpedo last month could defens secretari jim matti say syria dispers warplan recent day retain chemic weapon issu say taken diplomat depart justic threaten cut fund california well eight citi counti across unit state escal trump administr crackdown call sanctuari citi cooper feder immigr author unit state make except american compani includ oil major exxon mobil corp seek drill area prohibit u sanction russia treasuri secretari steven mnuchin say trump fellow republican control congress face first major budget test next week threat govern shutdown potenti hing propos mexican border wall well obamacar fund hous repres intellig committe say invit fbi nation secur agenc obama administr offici testifi restart investig alleg russian meddl u elect u n secretari general antonio guterr meet trump white hous first time sinc took offic earlier year amid u push cut fund world bodi agenc unit state offer help fund mexico effort erad opium poppi u offici say mexican heroin output increas last year',\n",
              "  5),\n",
              " ('reuter highlight day u presid donald trump administr friday trump back decis former nation secur advis michael flynn seek immun congression investig possibl tie campaign russia immedi sign request grant trump administr slam china rang trade issu chronic industri overcapac forc technolog transfer longstand ban u beef electron payment servic beij seek play tension unit state put posit face ahead presid xi jinp first meet trump next week senat democrat step closer enough vote block confirm vote trump suprem court nomine three democrat senat come neil gorsuch lifetim job justic trump seek push plan fair trade manufactur job back top agenda order studi caus u trade deficit clampdown import duti evas trump neither clear white hous tax plan adequ staff yet see plan tax overhaul accord interview peopl administr congress among u tax expert democrat tri counter trump boldest move yet defang u consum financi watchdog current former lawmak defend agenc court u environment protect agenc scientif integr watchdog review whether epa chief scott pruitt violat agenc polici said televis interview believ carbon dioxid drive global climat chang accord email seen reuter trump seek rebuild u relationship egypt meet monday egyptian presid abdel fattah al sisi focus secur issu militari aid senior white hous offici say trump host jordan king abdullah white hous next week discuss fight islam state milit syria crisi advanc peac isra palestinian white hous say u judg approv million settlement resolv class action lawsuit claim fraud trump trump univers real estat seminar',\n",
              "  5),\n",
              " ('reuter highlight u presid donald trump administr wednesday trump propos slash tax rate busi oversea corpor profit return countri plan greet open gambit fellow republican congress trump plan could shift u economi higher gear could one effect white hous would welcom interest rate ratchet higher expect wari central bank trump tax cut generat growth near enough replac trillion dollar lost revenu rise deficit could even take back econom gain fiscal expert say congress inch toward deal fund govern septemb prepar possibl extend midnight friday deadlin order wrap negoti avoid immin govern shutdown trump consid issu execut order pull unit state north american free trade agreement administr offici say move could unravel one world biggest trade bloc trump canadian prime minist justin trudeau discuss bilater trade second convers mani day amid strain softwood lumber dairi trump administr say aim push north korea dismantl nuclear missil program tougher intern sanction diplomat pressur remain open negoti bring trump give militari author reset confus system troop limit iraq syria critic say allow white hous micro manag battlefield decis ultim obscur real number u forc trump sign execut order allow nation monument design rescind reduc size site administr push open feder land drill mine develop trump order educ secretari betsi devo review govern role school polici support cheer step creat local control educ critic worri could lead lower qualiti school poorer neighborhood israel intellig minist say countri want understand trump administr iran must allow establish perman militari foothold syria',\n",
              "  3),\n",
              " ('reuter republican u congress reach deal final tax legisl wednesday clear way final vote next week packag approv would sent presid donald trump sign law formal languag legisl releas follow known provis hous repres senat tax writer agre base convers aid lawmak corpor tax rate fall percent percent hous senat bill well trump earlier propos percent go percent gave tax writer feder revenu need make tax cut immedi u corpor seek larg tax cut like mani year pass busi creat percent busi incom deduct owner pass busi sole proprietorship partnership hous propos percent tax rate senat percent deduct corpor minimum repeal corpor altern minimum tax set ensur profit compani pay least feder tax top individu incom tax rate fall percent percent hous propos maintain percent top rate condens current seven tax bracket four senat propos cut top rate percent maintain seven bracket perman expect individu tax rate snap back current level less year individu tax rate hous bill perman individu tax rate senat bill would expir year state local tax salt hous senat propos scale back popular individu deduct state local tax payment limit properti tax payment cap compromis bill expect keep cap also allow continu deduct state local incom tax payment mortgag interest cap mortgag interest deduct home loan valu current million hous propos cap senat bill left million estat tax rough doubl exempt feder estat tax inherit asset million leav tax place mirror senat propos hous bill rais deduct also entir phase tax obamacar mandat repeal feder fine impos american obamacar obtain health insur coverag hous bill repeal obamacar individu mandat anwr drill allow oil drill alaska arctic nation wildlif refug provis sponsor republican senat lisa murkowski alaska',\n",
              "  2),\n",
              " ('washington reuter presid donald trump weekend remark scale back tax cut corpor spark behind scene debat u congress white hous aid tri thursday minim impact presid comment two rival tax bill pass separ senat hous repres propos cut u corpor tax rate percent differ area republican tri merg final legisl speak report senat approv tax bill saturday trump said corpor tax rate final legisl expect soon lawmak could percent could also percent remark whet interest republican see slight upward bump propos corpor tax rate captur need feder revenu would help solv problem legisl accord lobbyist percent rate ought goal said hous way mean committe chairman kevin bradi expect head bicamer hous senat negoti committe view presid give us flexibl area need decis made need texa republican told report white hous legisl affair director marc short told reuter thursday trump voic support higher propos corpor rate instead may express view convey republican senat think reflect convers heard intend signal endors rais corpor rate short said believ percent right number percent high feel comfort go said interview trump republican alli plenti ride happen next week sweep u tax overhaul achiev sinc would give republican first major legisl victori failur overturn former presid barack obama healthcar law without win republican fear could lose control hous senat congression elect may late avoid confus prioriti tax debat move forward congress lobbyist said mani perceiv trump advis would accept corpor rate higher percent white hous econom advis kevin hassett said thursday percent corpor rate would undermin econom boost republican say tax cut creat analyst say corpor incom tax rate could readi sourc revenu lawmak move toward final bill lose trillion revenu next decad senat rule republican consid cost deduct state local tax properti tax deduct contain hous senat bill one version would allow taxpay choos deduct either properti incom tax hous lawmak also want adopt hous bill repeal corpor altern minimum tax would cost billion revenu decad accord joint committe taxat senat retain tax hous limit amount debt interest payment busi deduct incom would also cost billion senat version jct said analyst say one percentag point chang corpor rate equal billion revenu decad',\n",
              "  2),\n",
              " ('washington reuter u senat thursday delay vote republican tax overhaul bill trip problem amend sought fiscal hawk address larg expans feder budget deficit project result measur senat debat legisl late thursday adjourn put vote friday morn unclear decis vote bill would occur delay underscor nag concern among republican fiscal conserv deficit impact bill set possibl deep tax cut might moder futur tax increas might built conserv might seek attach spend cut approach could throw new polit problem white hous legisl affair director marc short told report capitol think tax cut go scale back think would still histor tax relief corpor middl incom famili tax bill seen republican crucial prospect novemb elect fight keep control senat hous repres sinc take offic januari presid donald trump republican control congress yet pass major legisl fact hope chang propos tax code overhaul would biggest sinc democrat expect unanim oppos tax bill dismiss giveaway wealthi corpor republican senat bob corker other tri add provis bill trigger automat futur tax increas tax cut bill boost economi generat revenu suffici offset deficit expans senat parliamentarian bar corker trigger propos procedur ground trigger amend need win corker vote other worri deficit worri intensifi congression analyst said bill would boost economi enough offset estim deficit expans trump administr said would senat financ committe chairman orrin hatch told report capitol easi accommod corker senat jeff flake fiscal hawk pretti hard make happi far go keep work go hatch said senat republican consid make propos corpor incom tax rate cut temporari instead perman rate would rise back unknown level six seven year said one republican senat aid time trump might longer offic futur congress might chang law ask tax bill troubl republican senat mike round told report think matter tri make bill work optim reign earlier day bill back republican senat john mccain stock surg hope key tax overhaul vote immin p hit record close high dow jone industri averag top mark first time joint committe taxat jct nonpartisan fiscal analysi unit congress said bill pass earlier senat financ committe would generat billion new tax revenu increas econom growth jct earlier estim tax bill would balloon trillion nation debt trillion year new estim count dynam econom effect put deficit expans trillion far short assert republican tax cut would pay hous repres democrat leader nanci pelosi said new jct estim show amount dynam score fairi dust fix catastroph deficit gop tax scam mccain key player juli collaps republican effort gut obamacar back tax bill far perfect parti presidenti nomine said would boost economi help american republican senat susan collin also play role failur obamacar rollback told report still commit bill sever republican withhold support push includ feder deduct state local properti tax bigger tax break pass compani includ small busi draft senat bill would cut u corpor tax rate percent percent one year delay reduc tax burden busi individu end mani tax break would still expand deficit trump want enact tax cut januari hous approv tax bill nov would merg senat bill approv final measur could go trump signatur republican vote member senat give enough win hold togeth democrat oppos republican could lose two vote vice presid mike penc abl break tie trump attack corker flake twitter senat seek elect earli octob presid call corker liddl bob corker tweet corker tweet trump white hous adult daycar center day later call trump liar damag u stand world trump tweet back say corker get elect dog catcher trump earlier month tweet flake polit career toast dramat senat speech flake said u polit becom inur reckless outrag undignifi behavior white hous',\n",
              "  2),\n",
              " ('beij reuter u presid donald trump arriv china wednesday seek help rein north korea tell reclus state leader put countri grave danger develop nuclear weapon trump use toughest languag yet north korea wide rang address seoul lodg specif accus chill human right abus call countri around world isol pyongyang deni form support suppli accept underestim us tri us trump told north korea wrap visit south korea speech nation assembl head beij make first offici visit trump paint dystopian pictur reclus north say peopl suffer gulag bribe govern offici work slave oversea rather live govern home offer evid support accus trump return harsh uncompromis languag came day appear dial back bellicos rhetor fuel fear across east asia risk militari conflict tuesday trump even offer diplomat open pyongyang make deal went most attack wednesday speech promis path much better futur north korea stop develop ballist missil agre complet verifi total denuclear someth pyongyang vow never allow american citi threaten destruct intimid told south korean lawmak let worst atroc histori repeat ground fought die secur north defend nuclear weapon missil program necessari defens say u plan invad unit state troop south korea legaci korean war deni intent world cannot toler menac rogu regim threaten nuclear devast trump said speak three u aircraft carrier group sail western pacif exercis rare show u naval forc region state visit plus beij trump chines presid xi jinp resum bromanc struck april trump mar lago resort florida make small talk tour forbidden citi shut tourist wive take chines opera perform sprawl palac complex polit cultur heart beij regular stop visit dignitari rare chines leader act person escort confirm state visit plus treatment china promis trump trump threaten action china wide trade surplus unit state call beij rein alli neighbor north korea express admir xi held impos trade measur two day visit trump ask china abid u n resolut cut financi link north korea senior white hous offici said plane seoul also plan discuss xi long contenti trade imbal u commerc secretari wilbur ross said ceremoni u busi leader billion worth deal sign white hous expect announc deal china week worth billion bloomberg report cite administr offici trump believ talk north korea would requir reduc threat end provoc move toward denuclear deal achiev without denuclear offici ad trump xi schedul hold formal talk thursday leav beij trump cite china one countri must fulli enforc intern sanction pyongyang downgrad diplomat commerci tie nation choos ignor threat wors still enabl weight crisi conscienc said trump tri convinc xi squeez north korea step limit oil export financi transact clear xi consolid power communist parti congress agre china repeat said leverag pyongyang exagger west alreadi enforc sanction chines foreign ministri said china fulli strict implement u n secur council resolut north korea investig contravent speech seoul trump direct word north korean leader kim jong un weapon acquir make safer put regim grave danger said everi step take dark path increas peril face howev trump whose strategi stress sanction militari pressur instead diplomaci spell new approach north korea made clear littl interest negoti least develop nuclear tip missil capabl hit u mainland someth u intellig offici say may month away achiev north korea countri rule cult trump said speech interrupt sever time applaus end stand ovat stop short repeat deris nicknam littl rocket man use describ young north korean leader kim part call trump mental derang speech came trump attempt make unannounc visit heavili fortifi border separ north south korea abort dens fog prevent helicopt land offici said visit dmz despit aid earlier insist plan go would potenti inflam tension north korea arriv beij wednesday trump wife melania descend red carpet staircas roll main door air forc one contrast visit china predecessor barack obama forc exit plane lower door seen snub china trump deter use twitter favor form communic despit ban accord administr offici presid tweet whatev want offici told report air forc one sure got gear aboard airplan make happen',\n",
              "  2),\n",
              " ('washington reuter u hous repres republican unveil long delay legisl thursday deliv deep tax cut presid donald trump promis set frantic race congress give first major legisl victori page bill repres would largest overhaul u tax system sinc call slash corpor tax rate percent percent cut tax rate individu famili end certain tax break compani individu congression passag legisl would affect near everi u compani famili far certain busi group quick came contenti provis test republican control white hous chamber congress unabl deliv major legisl achiev trump sinc businessman turn politician becam presid januari number provis would hit taxpay democrat lean state hardest like roll back deduct state local tax cut half popular mortgag interest deduct legisl call tax cut job act produc new advantag rich american lower corpor tax phase estat tax dump altern minimum tax import special moment countri american go let defend status quo win see countri continu downward spiral republican hous speaker paul ryan ask despit data show eight straight year econom growth meet ryan key hous republican trump told lawmak count maintain momentum tax cut repeat request congress send legisl sign law u thanksgiv holiday nov ambiti timet long multi facet piec legisl face feroci lobbi battl among busi sector affect bill fierc opposit mani democrat trump call bill import step toward tax relief american ad statement get start much work left bill present tax write hous way mean committe would consolid current number tax bracket four seven percent percent percent percent earlier republican tax outlin call cut top rate highest earner percent nation associ home builder blast legisl say would damag home price punish homeown urban area concern enact bill throw us back anoth hous recess jerri howard group presid said interview group said provis bill cap interest deduct futur home purchas half current amount unaccept howard said million home current high cost region like washington c new york citi california hawaii impact would felt bill would repeal exist deduct state local incom sale tax would cap deduct state local properti tax provis would affect american higher tax state california new york new jersey pennsylvania illinoi nation feder independ busi influenti small busi lobbi also came bill u chamber commerc busi lobbi back ryan said typic famili four would save annual tax bill democrat solid oppos legisl see giveaway corpor rich would expand feder deficit republican ill afford lose mani rank aim pass bill come week ultim american peopl realli get tax plan huge bill debt incur pay tax break line pocket donald trump person along billionair buddi like trump univers degre phoni said democrat congressman lloyd doggett bill architect avoid one showdown decid make chang popular tax defer k retir save program bill would rough doubl standard deduct individu famili would repeal person exempt taxpay current claim spous depend legisl would also phase tax exempt financ sport stadium subject larg privat univers percent excis tax invest incom would also repeal long stand prohibit religi institut involv polit activ bill would creat new famili tax credit doubl exempt estat tax inherit asset also allow small busi write loan interest bill would cap maximum tax rate small busi non corpor enterpris percent present maximum rate pass incom percent would set standard distinguish individu wage incom actual pass busi incom prevent tax avoid abus new lower tax level would creat new percent tax u compani high profit foreign subsidiari calcul global basi move prevent compani move profit oversea foreign busi oper unit state would face tax percent payment make oversea american oper u equiti ralli seri record high part expect deep corpor tax cut share u homebuild fell bill releas luxuri homebuild includ toll brother take biggest hit investor pars provis dow jone industri averag modest p slight investor caution tax plan preliminari soon gaug effect specif industri nl n n ig way mean committe begin formal consider bill next week full hous vote also must pass senat republican hold slimmer major earlier year fail garner enough vote approv major healthcar overhaul sought trump',\n",
              "  2),\n",
              " ('washington reuter presid donald trump thursday tap fed governor jerom powel becom head u central bank break preced deni janet yellen second term signal continu cautious monetari polici powel lawyer invest banker appoint fed board presid barack obama emerg trump choic slate possibl nomine includ yellen other may pursu sharp polici shift announc white hous trump describ soft spoken powel smart commit leader would build yellen achiev steer u economi recoveri financi crisi sustain progress economi requir sound monetari polici prudent oversight trump said powel look need strong steadi leadership u feder reserv provid exact powel work alongsid yellen past five year back direct monetari polici recent year share concern weak inflat justifi continu cautious approach rais interest rate yellen four year term fed chief end earli februari first u central bank chief renomin second term sinc trump thursday laud yellen stewardship say decid pass anoth term republican presid said impress powel experi privat sector real world perspect govern understand take economi grow trump said powel last year done prototyp washington circuit govern privat think tank job pledg attun emerg financi risk impact fed averag american take economi expand eight year one boast unemploy rate year low monetari polici decis matter american famili communiti strong share sens mission commit make decis object base best avail evid powel said brief remark trump announc nomin goe republican control senat confirm encourag presid trump choic senat major leader mitch mcconnel said statement pledg time consider nomin littl appar market reaction powel nomin expect investor larg focus releas detail republican plan broad chang u tax code set benchmark short term interest rate fed broad influenc borrow lend condit economi sinc crisi central bank gain power financi sector becom concern issu like incom inequ yellen fed veteran serv level sprawl central bank system said written statement would work powel ensur smooth transit trump decis broad public search offer analyst said classic compromis allow select fed chief get continu polici yellen run central bank kernel boil select powel trump select yellen said sarah binder polit scienc professor georg washington univers author recent book fed polit realli much daylight june powel laid defens fed gradualist path critiqu includ competitor fed job argu central bank increas risk high inflat problem trump sever occas said would prefer rate stay low posit appar odd short list particular stanford univers economist john taylor former fed governor kevin warsh top white hous econom advis gari cohn also contend powel reliabl support consensus forg yellen polici set feder open market committe like seen less riski choic economi grow solid u stock market near record high fed rais rate twice year wide expect next month powel gone colleagu call relax stricter regul impos crisi also import trump powel pursu end along trump appointe randal quarl fed new vice chair supervis though first fed chief sinc late without advanc degre econom powel bring market insight fed board experi republican tie analyst say like make smooth confirm transit presid georg h w bush powel oversaw polici financi institut debt market undersecretari treasuri partner carlyl group privat equiti firm focus public debt dynam bipartisan polici center think tank yellen entitl remain fed governor though previous central bank chief tradit stay successor place',\n",
              "  2)]"
            ]
          },
          "metadata": {},
          "execution_count": 50
        }
      ]
    },
    {
      "cell_type": "markdown",
      "source": [
        "## Classifiers"
      ],
      "metadata": {
        "id": "ZYrBhq05Z2mD"
      }
    },
    {
      "cell_type": "markdown",
      "source": [
        "### Logit Model"
      ],
      "metadata": {
        "id": "wMTCfYNLKMA6"
      }
    },
    {
      "cell_type": "code",
      "source": [
        "X = tfidf_v.fit_transform(corpus).toarray()\n",
        "y = df2['label']"
      ],
      "metadata": {
        "id": "eHPPIG3RHR4L"
      },
      "execution_count": 44,
      "outputs": []
    },
    {
      "cell_type": "code",
      "source": [
        "# Divide the dataset into Train and Test\n",
        "from sklearn.model_selection import train_test_split\n",
        "X_train, X_test, y_train, y_test = train_test_split(X, y, test_size=0.2, random_state=0)"
      ],
      "metadata": {
        "id": "Vbkn8Qb5Hm9L"
      },
      "execution_count": 45,
      "outputs": []
    },
    {
      "cell_type": "code",
      "source": [
        "from sklearn.linear_model import LogisticRegression\n",
        "from sklearn import metrics\n",
        "\n",
        "# Initialize the Logistic Regression model\n",
        "logit_classifier = LogisticRegression()\n",
        "\n",
        "# Fit the model on the training data\n",
        "logit_classifier.fit(X_train, y_train)\n",
        "\n",
        "# Make predictions on the testing data\n",
        "pred = logit_classifier.predict(X_test)\n",
        "\n",
        "# Calculate and print accuracy\n",
        "score = metrics.accuracy_score(y_test, pred)\n",
        "print(\"Accuracy: %0.3f\" % score)"
      ],
      "metadata": {
        "colab": {
          "base_uri": "https://localhost:8080/"
        },
        "id": "tytythxHHo16",
        "outputId": "f1d53479-5a00-470a-e1af-c2ef547f6893"
      },
      "execution_count": 37,
      "outputs": [
        {
          "output_type": "stream",
          "name": "stdout",
          "text": [
            "Accuracy: 0.995\n"
          ]
        }
      ]
    },
    {
      "cell_type": "code",
      "source": [
        "import matplotlib.pyplot as plt\n",
        "\n",
        "def plot_confusion_matrix(cm, classes,\n",
        "                          normalize=False,\n",
        "                          title='Confusion matrix',\n",
        "                          cmap=plt.cm.Blues):\n",
        "    \"\"\"\n",
        "    See full source and example:\n",
        "    http://scikit-learn.org/stable/auto_examples/model_selection/plot_confusion_matrix.html\n",
        "\n",
        "    This function prints and plots the confusion matrix.\n",
        "    Normalization can be applied by setting `normalize=True`.\n",
        "    \"\"\"\n",
        "    plt.imshow(cm, interpolation='nearest', cmap=cmap)\n",
        "    plt.title(title)\n",
        "    plt.colorbar()\n",
        "    tick_marks = np.arange(len(classes))\n",
        "    plt.xticks(tick_marks, classes, rotation=45)\n",
        "    plt.yticks(tick_marks, classes)\n",
        "\n",
        "    if normalize:\n",
        "        cm = cm.astype('float') / cm.sum(axis=1)[:, np.newaxis]\n",
        "        print(\"Normalized confusion matrix\")\n",
        "    else:\n",
        "        print('Confusion matrix, without normalization')\n",
        "\n",
        "    thresh = cm.max() / 2.\n",
        "    for i, j in itertools.product(range(cm.shape[0]), range(cm.shape[1])):\n",
        "        plt.text(j, i, cm[i, j],\n",
        "                 horizontalalignment=\"center\",\n",
        "                 color=\"white\" if cm[i, j] > thresh else \"black\")\n",
        "\n",
        "    plt.tight_layout()\n",
        "    plt.ylabel('True label')\n",
        "    plt.xlabel('Predicted label')\n",
        "\n"
      ],
      "metadata": {
        "id": "Z4lxT-dmIPDE"
      },
      "execution_count": 38,
      "outputs": []
    },
    {
      "cell_type": "code",
      "source": [
        "import itertools\n",
        "cm = metrics.confusion_matrix(y_test, pred)\n",
        "plot_confusion_matrix(cm, classes=['FAKE', 'REAL'])\n",
        ""
      ],
      "metadata": {
        "colab": {
          "base_uri": "https://localhost:8080/",
          "height": 524
        },
        "id": "rdIKNr69IWV0",
        "outputId": "31f93b05-365f-40c4-fcdb-b4c76c6e0413"
      },
      "execution_count": 39,
      "outputs": [
        {
          "output_type": "stream",
          "name": "stdout",
          "text": [
            "Confusion matrix, without normalization\n"
          ]
        },
        {
          "output_type": "display_data",
          "data": {
            "text/plain": [
              "<Figure size 640x480 with 2 Axes>"
            ],
            "image/png": "[encoded data removed]"
          },
          "metadata": {}
        }
      ]
    },
    {
      "cell_type": "code",
      "source": [
        "from sklearn.metrics import classification_report, f1_score\n",
        "\n",
        "# Assuming 'y_test' is your true labels\n",
        "f1 = f1_score(y_test, pred, average='binary')  # Set average='macro' for multiclass problems\n",
        "\n",
        "print(\"F1 Score:\", f1)\n",
        "\n",
        "# Generate a classification report\n",
        "classification_rep = classification_report(y_test, pred)\n",
        "print(\"Classification Report:\\n\", classification_rep)\n"
      ],
      "metadata": {
        "colab": {
          "base_uri": "https://localhost:8080/"
        },
        "id": "4itYBRd8doCR",
        "outputId": "7ca337d6-8171-45cf-9c0a-f6223ff32ee8"
      },
      "execution_count": 40,
      "outputs": [
        {
          "output_type": "stream",
          "name": "stdout",
          "text": [
            "F1 Score: 0.9943791517629024\n",
            "Classification Report:\n",
            "               precision    recall  f1-score   support\n",
            "\n",
            "           0       0.99      1.00      0.99      1020\n",
            "           1       1.00      0.99      0.99       981\n",
            "\n",
            "    accuracy                           0.99      2001\n",
            "   macro avg       0.99      0.99      0.99      2001\n",
            "weighted avg       0.99      0.99      0.99      2001\n",
            "\n"
          ]
        }
      ]
    },
    {
      "cell_type": "markdown",
      "source": [
        "### Muiltinomial Niave Bayes"
      ],
      "metadata": {
        "id": "iMT97pLgZitm"
      }
    },
    {
      "cell_type": "code",
      "source": [
        "from sklearn.naive_bayes import MultinomialNB\n",
        "\n",
        "# Train a Naive Bayes classifier\n",
        "classifier = MultinomialNB()\n",
        "classifier.fit(X_train, y_train)\n",
        "\n",
        "# Make predictions on the test set\n",
        "pred = classifier.predict(X_test)\n",
        "\n",
        "# Calculate and print accuracy\n",
        "score = metrics.accuracy_score(y_test, pred)\n",
        "print(\"Accuracy: %0.3f\" % score)\n",
        "cm = metrics.confusion_matrix(y_test, pred)\n",
        "plot_confusion_matrix(cm, classes=['FAKE', 'REAL'])"
      ],
      "metadata": {
        "colab": {
          "base_uri": "https://localhost:8080/",
          "height": 542
        },
        "id": "vv0ly01vYY1B",
        "outputId": "b398f13a-8695-4b86-ee1b-3ed43f003ccb"
      },
      "execution_count": 42,
      "outputs": [
        {
          "output_type": "stream",
          "name": "stdout",
          "text": [
            "Accuracy: 0.972\n",
            "Confusion matrix, without normalization\n"
          ]
        },
        {
          "output_type": "display_data",
          "data": {
            "text/plain": [
              "<Figure size 640x480 with 2 Axes>"
            ],
            "image/png": "[encoded data removed]"
          },
          "metadata": {}
        }
      ]
    },
    {
      "cell_type": "code",
      "source": [
        "# Assuming 'y_test' is your true labels\n",
        "f1 = f1_score(y_test, pred, average='binary')  # Set average='macro' for multiclass problems\n",
        "\n",
        "print(\"F1 Score:\", f1)\n",
        "\n",
        "# Generate a classification report\n",
        "classification_rep = classification_report(y_test, pred)\n",
        "print(\"Classification Report:\\n\", classification_rep)\n"
      ],
      "metadata": {
        "colab": {
          "base_uri": "https://localhost:8080/"
        },
        "id": "xojpaXaxhZVW",
        "outputId": "a9c7acc3-00a2-4ea5-99d5-10ea336e3011"
      },
      "execution_count": 43,
      "outputs": [
        {
          "output_type": "stream",
          "name": "stdout",
          "text": [
            "F1 Score: 0.97119341563786\n",
            "Classification Report:\n",
            "               precision    recall  f1-score   support\n",
            "\n",
            "           0       0.96      0.98      0.97      1020\n",
            "           1       0.98      0.96      0.97       981\n",
            "\n",
            "    accuracy                           0.97      2001\n",
            "   macro avg       0.97      0.97      0.97      2001\n",
            "weighted avg       0.97      0.97      0.97      2001\n",
            "\n"
          ]
        }
      ]
    }
  ]
}